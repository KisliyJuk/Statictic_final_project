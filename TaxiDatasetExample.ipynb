{
 "cells": [
  {
   "cell_type": "markdown",
   "metadata": {},
   "source": [
    "# Regression\n",
    "\n",
    "In this notebook, we calculate the Swiss Army infinitsimal jackknife error bounds for linear regression.\n",
    "\n",
    "This example illustrates at least one way in which dimension dependence can occur implicitly in the error bound of Theorem 1."
   ]
  },
  {
   "cell_type": "code",
   "execution_count": 30,
   "metadata": {
    "collapsed": true
   },
   "outputs": [],
   "source": [
    "import autograd\n",
    "import autograd.numpy as np\n",
    "import scipy as sp\n",
    "import paragami\n",
    "import vittles\n",
    "\n",
    "from tqdm import tqdm \n",
    "import pandas as pd\n",
    "import time\n",
    "from sklearn.linear_model import LinearRegression\n",
    "from sklearn.preprocessing import MinMaxScaler\n",
    "\n",
    "import matplotlib.pyplot as plt\n",
    "%matplotlib inline"
   ]
  },
  {
   "cell_type": "code",
   "execution_count": 44,
   "metadata": {
    "collapsed": true
   },
   "outputs": [],
   "source": [
    "# A convenience function to visually compare two variables.\n",
    "def comparison_plot(x, y):\n",
    "    plt.plot(x, x, \"k\")\n",
    "    plt.plot(x, y, \"r.\")\n",
    "    plt.show()"
   ]
  },
  {
   "cell_type": "markdown",
   "metadata": {},
   "source": [
    "## Generate data and calculate IJ."
   ]
  },
  {
   "cell_type": "markdown",
   "metadata": {},
   "source": [
    "First, generate some data according to a linear regression model."
   ]
  },
  {
   "cell_type": "code",
   "execution_count": 72,
   "metadata": {},
   "outputs": [
    {
     "name": "stdout",
     "output_type": "stream",
     "text": [
      "20000\n"
     ]
    },
    {
     "data": {
      "text/plain": [
       "array([9.47656276e-13, 9.09494702e-13, 1.96953565e-13, 1.65750000e+03,\n",
       "       9.50000000e+02, 2.30875000e+02, 5.68434189e-14])"
      ]
     },
     "execution_count": 72,
     "metadata": {},
     "output_type": "execute_result"
    }
   ],
   "source": [
    "N = 20000\n",
    "data = pd.read_csv(\"train.csv\").iloc[:N].sort_values(by=\"total_fare\")\n",
    "x, y = data.drop(columns=[\"total_fare\"]).values, data[\"total_fare\"].values\n",
    "x = MinMaxScaler().fit_transform(x)\n",
    "dim = x.shape[1]\n",
    "num_obs = len(y)\n",
    "print(num_obs)\n",
    "theta_true = LinearRegression().fit(x, y).coef_\n",
    "theta_true"
   ]
  },
  {
   "cell_type": "markdown",
   "metadata": {},
   "source": [
    "First, we specify the weighted regression loss function.  In this case, the optimum is available in closed form.  For convenience we implement the closed form optimum and test that it matches the optimum of the loss function."
   ]
  },
  {
   "cell_type": "code",
   "execution_count": 79,
   "metadata": {},
   "outputs": [
    {
     "name": "stdout",
     "output_type": "stream",
     "text": [
      "Iter 0: f = 12426.59726406\n",
      "Iter 1: f = 12371.66664015\n",
      "Iter 2: f = 12262.71926921\n",
      "Iter 3: f = 12048.54270792\n",
      "Iter 4: f = 11634.97368601\n",
      "Iter 5: f = 10864.45010850\n",
      "Iter 6: f = 9527.03751339\n",
      "Iter 7: f = 7505.47369661\n",
      "Iter 8: f = 5231.93107664\n",
      "Iter 9: f = 3031.41401800\n",
      "Iter 10: f = 787.48559800\n",
      "Iter 11: f = 17.77385009\n",
      "Iter 12: f = 0.00000000\n",
      "Optimization terminated successfully.\n"
     ]
    }
   ],
   "source": [
    "def eval_log_loss(theta, w, x, y):\n",
    "    resid = y - x @ theta\n",
    "    log_lik = -0.5 * np.sum(w * (resid**2)) / num_obs\n",
    "    return -1 * log_lik\n",
    "\n",
    "\n",
    "def get_optimum(w, x, y):\n",
    "    xtx = (w[:, None] * x).T @ x\n",
    "    xty = (w[:, None] * x).T @ y\n",
    "    return np.linalg.solve(xtx, xty)\n",
    "\n",
    "\n",
    "# Test the loss function and optimum with random weights.\n",
    "w = np.ones(num_obs) + 1 * (np.random.random(num_obs) - 0.5)\n",
    "\n",
    "log_loss_objective = paragami.OptimizationObjective(\n",
    "    lambda theta: eval_log_loss(theta, w, x, y)\n",
    ")\n",
    "\n",
    "theta_guess = np.zeros(dim)\n",
    "\n",
    "opt = sp.optimize.minimize(\n",
    "    fun=log_loss_objective.f,\n",
    "    jac=log_loss_objective.grad,\n",
    "    hess=log_loss_objective.hessian,\n",
    "    method=\"trust-exact\",\n",
    "    x0=theta_guess,\n",
    "    options={\"gtol\": 1e-12},\n",
    ")\n",
    "print(opt.message)\n",
    "\n",
    "# assert(np.linalg.norm(opt.x - get_optimum(w, x, y)) / dim < 1e-8)"
   ]
  },
  {
   "cell_type": "markdown",
   "metadata": {},
   "source": [
    "Get the initial optimum at the vector of unity weights."
   ]
  },
  {
   "cell_type": "code",
   "execution_count": 76,
   "metadata": {
    "collapsed": true
   },
   "outputs": [],
   "source": [
    "w1 = np.ones(num_obs)\n",
    "theta_opt = get_optimum(w1, x, y)"
   ]
  },
  {
   "cell_type": "markdown",
   "metadata": {},
   "source": [
    "Define an IJ predictor using ``vittles``."
   ]
  },
  {
   "cell_type": "code",
   "execution_count": 77,
   "metadata": {
    "collapsed": true
   },
   "outputs": [],
   "source": [
    "ij_predictor = vittles.HyperparameterSensitivityLinearApproximation(\n",
    "    lambda theta, w: eval_log_loss(theta, w, x, y),\n",
    "    opt_par_value=theta_opt,\n",
    "    hyper_par_value=w1,\n",
    ")"
   ]
  },
  {
   "cell_type": "markdown",
   "metadata": {},
   "source": [
    "Get the IJ predictions and exact CV for a range of weights."
   ]
  },
  {
   "cell_type": "code",
   "execution_count": 78,
   "metadata": {},
   "outputs": [
    {
     "name": "stderr",
     "output_type": "stream",
     "text": [
      "100%|██████████| 20000/20000 [00:14<00:00, 1406.49it/s]\n"
     ]
    },
    {
     "data": {
      "image/png": "[encoded data removed]",
      "text/plain": [
       "<Figure size 640x480 with 1 Axes>"
      ]
     },
     "metadata": {},
     "output_type": "display_data"
    }
   ],
   "source": [
    "theta_ij = np.full((num_obs, dim), float(\"nan\"))\n",
    "theta_cv = np.full((num_obs, dim), float(\"nan\"))\n",
    "\n",
    "ij_time = 0\n",
    "cv_time = 0\n",
    "\n",
    "w_loo = np.ones(num_obs)\n",
    "for n in tqdm(range(num_obs)):\n",
    "    w_loo[n] = 0\n",
    "    tic = time.time()\n",
    "    theta_ij[n, :] = ij_predictor.predict_opt_par_from_hyper_par(w_loo)\n",
    "    ij_time = ij_time + time.time() - tic\n",
    "\n",
    "    tic = time.time()\n",
    "    theta_cv[n, :] = get_optimum(w_loo, x, y)\n",
    "    cv_time = cv_time + time.time() - tic\n",
    "\n",
    "    w_loo[n] = 1\n",
    "\n",
    "y1 = theta_cv - theta_opt[None, :]\n",
    "y2 = theta_ij - theta_opt[None, :]\n",
    "\n",
    "\n",
    "comparison_plot(y1, y2)"
   ]
  },
  {
   "cell_type": "code",
   "execution_count": 42,
   "metadata": {},
   "outputs": [
    {
     "data": {
      "text/plain": [
       "array([[-2.28592418e-18,  1.82068570e-16, -2.15287908e-17, ...,\n",
       "         0.00000000e+00,  0.00000000e+00,  1.26295187e-17],\n",
       "       [-1.91665678e-17,  6.40861129e-16,  1.31231114e-17, ...,\n",
       "         0.00000000e+00,  0.00000000e+00,  4.98612831e-17],\n",
       "       [-4.78022098e-18, -5.70387557e-17,  3.26584624e-19, ...,\n",
       "         0.00000000e+00,  0.00000000e+00,  2.25931614e-17],\n",
       "       ...,\n",
       "       [ 1.64046185e-18,  2.77600943e-16, -1.90989117e-17, ...,\n",
       "         0.00000000e+00,  0.00000000e+00,  4.86078585e-17],\n",
       "       [ 1.54036461e-17, -1.21044637e-16, -1.46848620e-16, ...,\n",
       "         0.00000000e+00,  0.00000000e+00,  9.45225197e-18],\n",
       "       [-3.45613466e-17,  1.34817040e-15, -3.10762388e-17, ...,\n",
       "         0.00000000e+00,  0.00000000e+00,  1.44587229e-17]])"
      ]
     },
     "execution_count": 42,
     "metadata": {},
     "output_type": "execute_result"
    }
   ],
   "source": [
    "y2"
   ]
  },
  {
   "cell_type": "markdown",
   "metadata": {},
   "source": [
    "The IJ is faster even than the closed form optimum, though, to be fair, the closed form optimum could be made more efficient by caching $(X^T X)^{-1}$ and using the Woodbury matrix identity."
   ]
  },
  {
   "cell_type": "code",
   "execution_count": 8,
   "metadata": {},
   "outputs": [
    {
     "name": "stdout",
     "output_type": "stream",
     "text": [
      "IJ time: 0.004000186920166016\n",
      "CV time: 0.025417566299438477\n"
     ]
    }
   ],
   "source": [
    "print(\"IJ time: {}\".format(ij_time))\n",
    "print(\"CV time: {}\".format(cv_time))"
   ]
  }
 ],
 "metadata": {
  "kernelspec": {
   "display_name": "Python 3",
   "language": "python",
   "name": "python3"
  },
  "language_info": {
   "codemirror_mode": {
    "name": "ipython",
    "version": 3
   },
   "file_extension": ".py",
   "mimetype": "text/x-python",
   "name": "python",
   "nbconvert_exporter": "python",
   "pygments_lexer": "ipython3",
   "version": "3.10.0"
  }
 },
 "nbformat": 4,
 "nbformat_minor": 2
}
